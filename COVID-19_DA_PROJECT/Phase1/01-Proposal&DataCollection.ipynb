{
 "cells": [
  {
   "cell_type": "markdown",
   "metadata": {},
   "source": [
    "<div align=center>\n",
    "<a href='https://mp.weixin.qq.com/mp/appmsgalbum?__biz=Mzg2OTU4NzI3NQ==&action=getalbum&album_id=1764511202329624577&scene=126#wechat_redirect'> \n",
    "<img src=https://github.com/datoujinggzj/WhaleDataScienceProject/blob/master/pic/followme_cover.gif?raw=true  width='800'/>\n",
    "</div>\n",
    "\n",
    "\n",
    "\n",
    "---\n",
    "\n",
    "<div align=center>\n",
    "<a href='https://mp.weixin.qq.com/mp/appmsgalbum?__biz=Mzg2OTU4NzI3NQ==&action=getalbum&album_id=1764511202329624577&scene=126#wechat_redirect'> \n",
    "<img src=https://github.com/datoujinggzj/WhaleDataAnalysisProject/blob/master/pic/shanghai.png?raw=true width='400' />\n",
    "</div>"
   ]
  },
  {
   "cell_type": "markdown",
   "metadata": {},
   "source": [
    "<div align=center>\n",
    "<img src=https://github.com/datoujinggzj/WhaleDataScienceProject/blob/master/pic/10.png?raw=true width='800' />\n",
    "</div>"
   ]
  },
  {
   "cell_type": "markdown",
   "metadata": {},
   "source": [
    "👇👇👇点击可跳转！\n",
    "\n",
    "[第一阶段：数据梳理&项目提案](#第一阶段：数据梳理&项目提案)\n",
    "\n",
    "- [数据梳理](#数据梳理)\n",
    "   - 1.1 [数据介绍](#数据介绍)\n",
    "   - 1.2 [数据获取](#数据获取)\n",
    "- [项目提案](#项目提案)\n",
    "   - 2.1 [Purpose](#Purpose)\n",
    "   - 2.2 [Expectation](#Expectation)\n",
    "   - 2.3 [Outcome](#Outcome)\n",
    "3. [其他](#其他)"
   ]
  },
  {
   "cell_type": "markdown",
   "metadata": {},
   "source": [
    "<div class=\"alert alert-block alert-danger\">\n",
    "<b>注意：</b>\n",
    "\n",
    "需要翻墙才可下载数据和观看油管视频哦！\n",
    "    \n",
    "</div>"
   ]
  },
  {
   "cell_type": "markdown",
   "metadata": {},
   "source": [
    "<div class=\"alert alert-block alert-warning\">\n",
    "<center><b>【上海新冠疫情数据分析】项目日志</b></center>\n",
    "\n",
    "    \n",
    "第一阶段：【项目提案&数据梳理】\n",
    "\n",
    "\n",
    "    \n",
    "**第一节阶段核心目的：**分析研究项目的核心价值、需求逻辑，建立数据分析框架，并完成项目提案的三个过程，以及数据获取和处理。\n",
    "    \n",
    "**难度（最高5星）：**⭐⭐⭐\n",
    "    \n",
    "**第一阶段周期：** 2022年4月11日 至 2022年4月18日（北京时间）\n",
    "\n",
    "Good Luck!\n",
    "</div>\n"
   ]
  },
  {
   "cell_type": "markdown",
   "metadata": {},
   "source": [
    "# 第一阶段：数据梳理&项目提案"
   ]
  },
  {
   "cell_type": "code",
   "execution_count": 1,
   "metadata": {},
   "outputs": [],
   "source": [
    "# import packages\n",
    "\n",
    "# data processing\n",
    "import pandas as pd\n",
    "import numpy as np\n",
    "from datetime import timedelta, datetime\n",
    "\n",
    "\n",
    "import re\n",
    "\n",
    "# data visualization\n",
    "import plotly.graph_objs as go\n",
    "from plotly.graph_objs import Bar, Layout\n",
    "from plotly import offline\n",
    "import matplotlib.pyplot as plt\n",
    "import seaborn as sns\n",
    "sns.set_theme(style=\"whitegrid\")\n",
    "sns.set(rc={'figure.figsize':(11.7,8.27)})\n",
    "\n",
    "plt.rcParams['font.sans-serif']=['SimHei'] #用来正常显示中文标签\n",
    "plt.rcParams['axes.unicode_minus'] = False #用来正常显示负号\n",
    "\n",
    "# change text color\n",
    "import colorama\n",
    "from colorama import Fore, Style\n",
    "\n",
    "# IPython\n",
    "from IPython.display import IFrame"
   ]
  },
  {
   "cell_type": "markdown",
   "metadata": {},
   "source": [
    "## 数据梳理\n",
    "\n",
    "近日来，中国疫情卷土重来，上海前所未有的严重疫情牵动着全国人民的心。我们希望能够通过Python对中国各省疫情的时间序列进行数据分析、建模及预测。\n",
    "\n",
    "那么，到底什么是**时间序列**？\n",
    "\n",
    "> 时间序列的定义\n",
    "\n",
    "时间序列，是指同一个变量在连续且固定的时间间隔上的各个数据点的集合。\n",
    "\n",
    "比如每5分钟记录的收费口车流量，或者每年记录的药物销量都是时间序列。"
   ]
  },
  {
   "cell_type": "markdown",
   "metadata": {},
   "source": [
    "![](https://timeserieslab.com/img/nile.jpeg)"
   ]
  },
  {
   "cell_type": "markdown",
   "metadata": {},
   "source": [
    "<div class=\"alert alert-block alert-success\"><b>Step 1 </b>\n",
    "\n",
    "    \n",
    "那么，本项目中的时间序列是什么呢？\n",
    "\n",
    "\n",
    "</div>"
   ]
  },
  {
   "cell_type": "markdown",
   "metadata": {},
   "source": [
    "> 时间序列的类型\n",
    "\n",
    "根据时间间隔的不同，时间序列可以是按年度(Annual)、季度、月度、周、小时、分钟、秒等频率采集的序列。\n",
    "\n",
    "> 时间序列的成分 \n",
    "\n",
    "- 趋势(Trend)，比如长期上涨或长期下跌。\n",
    "- 季节性(Seasonal)，比如羽绒服的销量一般会在冬季更高，或者某家烧烤店的生意一般会在每周五和周六晚上更好。\n",
    "- 周期性(Cyclic)，比如你时不时搞个大促，那么销量在那段时间就会比较好。\n",
    "- 误差。\n",
    "\n",
    "\n",
    "> Cyclic and seasonal time series: https://robjhyndman.com/hyndsight/cyclicts/"
   ]
  },
  {
   "cell_type": "markdown",
   "metadata": {},
   "source": [
    "<div align=center>\n",
    "<img src=https://miro.medium.com/max/1101/1*Vd4TbG2Ocj4cZN2xOcMM8A.jpeg width='400' />\n",
    "</div>"
   ]
  },
  {
   "cell_type": "markdown",
   "metadata": {},
   "source": [
    "那么，这里不得不谈到【横截面数据】，他们的区别又是什么呢？\n",
    "\n",
    "- 横截面数据是指在某一时点收集的不同对象的数据\n",
    "- 时间序列数据是指对同一对象在不同时间连续观察所取得的数据\n",
    "\n",
    "\n"
   ]
  },
  {
   "cell_type": "markdown",
   "metadata": {},
   "source": [
    "\n",
    "<div align=center>\n",
    "<img src=https://i2.wp.com/www.differencebetween.com/wp-content/uploads/2018/06/Difference-Between-Time-Series-and-Cross-Sectional-Data-Tabular-Form-1.jpg?w=730&ssl=1 width='600' />\n",
    "</div>"
   ]
  },
  {
   "cell_type": "code",
   "execution_count": 2,
   "metadata": {
    "scrolled": true
   },
   "outputs": [
    {
     "data": {
      "text/html": [
       "\n",
       "        <iframe\n",
       "            width=\"853\"\n",
       "            height=\"480\"\n",
       "            src=\"https://www.youtube.com/embed/bFkzeBQiaOg\"\n",
       "            frameborder=\"0\"\n",
       "            allowfullscreen\n",
       "        ></iframe>\n",
       "        "
      ],
      "text/plain": [
       "<IPython.lib.display.IFrame at 0x229d3da74c8>"
      ]
     },
     "execution_count": 2,
     "metadata": {},
     "output_type": "execute_result"
    }
   ],
   "source": [
    "IFrame(width=\"853\",height=\"480\",src = \"https://www.youtube.com/embed/bFkzeBQiaOg\")"
   ]
  },
  {
   "cell_type": "markdown",
   "metadata": {},
   "source": [
    "<div align=center>\n",
    "<img src=https://github.com/datoujinggzj/WhaleDataScienceProject/blob/master/pic/sep.gif?raw=true width='800' />\n",
    "</div>"
   ]
  },
  {
   "cell_type": "markdown",
   "metadata": {},
   "source": [
    "### 数据介绍\n",
    "\n",
    "下面来介绍一下我们所使用的数据。\n",
    "\n",
    "数据源：https://github.com/CSSEGISandData/COVID-19/tree/master/csse_covid_19_data"
   ]
  },
  {
   "cell_type": "code",
   "execution_count": 3,
   "metadata": {},
   "outputs": [
    {
     "data": {
      "text/html": [
       "\n",
       "        <iframe\n",
       "            width=\"853\"\n",
       "            height=\"480\"\n",
       "            src=\"https://www.youtube.com/embed/tVctY3-kvU0\"\n",
       "            frameborder=\"0\"\n",
       "            allowfullscreen\n",
       "        ></iframe>\n",
       "        "
      ],
      "text/plain": [
       "<IPython.lib.display.IFrame at 0x229d2ddedc8>"
      ]
     },
     "execution_count": 3,
     "metadata": {},
     "output_type": "execute_result"
    }
   ],
   "source": [
    "IFrame(width=\"853\",height=\"480\",src = \"https://www.youtube.com/embed/tVctY3-kvU0\")"
   ]
  },
  {
   "cell_type": "markdown",
   "metadata": {},
   "source": [
    "### 数据获取"
   ]
  },
  {
   "cell_type": "markdown",
   "metadata": {},
   "source": [
    "首先，我们要获取时间序列数据：\n",
    "\n",
    "- time_series_covid19_confirmed_US.csv\n",
    "- time_series_covid19_confirmed_global.csv\n",
    "- time_series_covid19_deaths_US.csv\n",
    "- time_series_covid19_deaths_global.csv\n",
    "- time_series_covid19_recovered_global.csv"
   ]
  },
  {
   "cell_type": "code",
   "execution_count": 4,
   "metadata": {},
   "outputs": [],
   "source": [
    "def GET_csse_covid_19_time_series():\n",
    "\n",
    "    print('正在读取【时间序列】数据......')\n",
    "    repo = 'https://raw.githubusercontent.com/CSSEGISandData/COVID-19/master/csse_covid_19_data/csse_covid_19_time_series/'\n",
    "\n",
    "    ts_confirmed_us = pd.read_csv(repo+'time_series_covid19_confirmed_US.csv')\n",
    "    ts_confirmed_global = pd.read_csv(repo+'time_series_covid19_confirmed_global.csv')\n",
    "\n",
    "    ts_deaths_us = pd.read_csv(repo+'time_series_covid19_deaths_US.csv')\n",
    "    ts_deaths_global = pd.read_csv(repo+'time_series_covid19_deaths_global.csv')\n",
    "\n",
    "    ts_recovered_global = pd.read_csv(repo+'time_series_covid19_recovered_global.csv')\n",
    "\n",
    "    print('读取完毕')\n",
    "    return ts_confirmed_us,ts_confirmed_global,ts_deaths_us,ts_deaths_global,ts_recovered_global"
   ]
  },
  {
   "cell_type": "code",
   "execution_count": 5,
   "metadata": {},
   "outputs": [],
   "source": [
    "# ts_confirmed_us,ts_confirmed_global,ts_deaths_us,ts_deaths_global,ts_recovered_global = GET_csse_covid_19_time_series()"
   ]
  },
  {
   "cell_type": "markdown",
   "metadata": {},
   "source": [
    "然后，我们要获取横截面数据：\n",
    "\n",
    "- csse_covid_19_daily_reports\n",
    "- csse_covid_19_daily_reports_us"
   ]
  },
  {
   "cell_type": "code",
   "execution_count": 6,
   "metadata": {},
   "outputs": [],
   "source": [
    "def GET_csse_covid_19_daily_reports():\n",
    "\n",
    "    print('正在读取【横截面】数据......')\n",
    "\n",
    "    # global\n",
    "    ts_confirmed_us = pd.read_csv('https://raw.githubusercontent.com/CSSEGISandData/COVID-19/master/csse_covid_19_data/csse_covid_19_time_series/time_series_covid19_confirmed_US.csv')\n",
    "\n",
    "    latest = pd.to_datetime(ts_confirmed_us.columns[-1]).strftime('%m-%d-%Y')\n",
    "    prev = (pd.to_datetime(ts_confirmed_us.columns[-1])+timedelta(-1)).strftime('%m-%d-%Y')\n",
    "\n",
    "    url_latest_global = f'https://raw.githubusercontent.com/CSSEGISandData/COVID-19/master/csse_covid_19_data/csse_covid_19_daily_reports/{latest}.csv'\n",
    "    latest_data_global = pd.read_csv(url_latest_global)\n",
    "\n",
    "    url_prev_global = f'https://raw.githubusercontent.com/CSSEGISandData/COVID-19/master/csse_covid_19_data/csse_covid_19_daily_reports/{prev}.csv'\n",
    "    prev_data_global = pd.read_csv(url_prev_global)\n",
    "\n",
    "    url_latest_us = f'https://raw.githubusercontent.com/CSSEGISandData/COVID-19/master/csse_covid_19_data/csse_covid_19_daily_reports_us/{latest}.csv'\n",
    "    latest_data_us = pd.read_csv(url_latest_us)\n",
    "\n",
    "    url_prev_us = f'https://raw.githubusercontent.com/CSSEGISandData/COVID-19/master/csse_covid_19_data/csse_covid_19_daily_reports_us/{prev}.csv'\n",
    "    prev_data_us = pd.read_csv(url_prev_us)\n",
    "\n",
    "\n",
    "    print('读取完毕')\n",
    "    return latest_data_global,prev_data_global,latest_data_us,prev_data_us"
   ]
  },
  {
   "cell_type": "code",
   "execution_count": 7,
   "metadata": {},
   "outputs": [],
   "source": [
    "# latest_data_global,prev_data_global,latest_data_us,prev_data_us = GET_csse_covid_19_daily_reports()"
   ]
  },
  {
   "cell_type": "code",
   "execution_count": 8,
   "metadata": {},
   "outputs": [
    {
     "data": {
      "text/html": [
       "\n",
       "        <iframe\n",
       "            width=\"853\"\n",
       "            height=\"480\"\n",
       "            src=\"https://www.youtube.com/embed/gGZZwDCbwmM\"\n",
       "            frameborder=\"0\"\n",
       "            allowfullscreen\n",
       "        ></iframe>\n",
       "        "
      ],
      "text/plain": [
       "<IPython.lib.display.IFrame at 0x229d3db1848>"
      ]
     },
     "execution_count": 8,
     "metadata": {},
     "output_type": "execute_result"
    }
   ],
   "source": [
    "IFrame(width=\"853\",height=\"480\",src = \"https://www.youtube.com/embed/gGZZwDCbwmM\")"
   ]
  },
  {
   "cell_type": "markdown",
   "metadata": {},
   "source": [
    "<div class=\"alert alert-block alert-success\"><b>Step 2 </b>\n",
    "\n",
    "    \n",
    "请观看上方视频，然后把目标网址的内容爬取出来！\n",
    "\n",
    "链接：https://wsjkw.sh.gov.cn/yqtb/index.html\n",
    "\n",
    "\n",
    "</div>"
   ]
  },
  {
   "cell_type": "code",
   "execution_count": 9,
   "metadata": {},
   "outputs": [],
   "source": [
    "def GET_shanghai_data(data_name = 'ts_shanghai_covid', plot = False):\n",
    "    \n",
    "    '''\n",
    "    data_name:数据名称：可选：'ts_shanghai_covid' 或者 'latest_shanghai_covid'，默认是'ts_shanghai_covid'\n",
    "    plot：是否画图，默认是否\n",
    "    '''\n",
    "    import re\n",
    "    print('正在获取并处理【上海】数据（数据来自上海卫健委）......')\n",
    "    url = f'https://gitee.com/gzjzg/whale-pkg/raw/master/DATA/{data_name}.csv'\n",
    "    data = pd.read_csv(url)['detail']\n",
    "    print('读取完毕')\n",
    "    \n",
    "    data = data[data.apply(lambda x: x.startswith('上海202'))].sort_values()\n",
    "    data = data.apply(lambda x: x.replace('无新增','0'))\n",
    "    \n",
    "    df_all = pd.DataFrame(map(np.ravel,data.apply(lambda x: re.findall(r\"\\d+\",x)))).rename({\n",
    "    0:'年',\n",
    "    1:'月',\n",
    "    2:'日',\n",
    "    3:'新增本土确诊',\n",
    "    4:'新增本土无症状'\n",
    "    },axis=1).iloc[:,:5]\n",
    "    df_all['日期'] = df_all['年'].map(str)+\"/\"+df_all['月'].map(str)+\"/\"+df_all['日'].map(str)\n",
    "    df_all['日期'] = pd.to_datetime(df_all['日期'])\n",
    "    \n",
    "    df_all = df_all.set_index('日期').sort_index()\n",
    "    df_all = df_all.astype('int32')\n",
    "    df = df_all.iloc[:,3:5]\n",
    "    \n",
    "    if plot:\n",
    "        fig, axes = plt.subplots(nrows=2, ncols=1,figsize = [10,5*2])\n",
    "        df_2022 = df[df.index>'2022-01-01']\n",
    "        for col,ax in zip(df_2022.columns,axes):\n",
    "            ax.step(df_2022.index, df_2022[col], color = '#202124',linewidth = 2)\n",
    "            ax.bar(df_2022.index, df_2022[col],alpha = .8)\n",
    "            ax.hlines(y=df[col].max(), xmin=df_2022.index[0], xmax=df_2022.index[-1], linewidth=1, color = '#ff0000')\n",
    "            ax.text(x = df_2022.index[0], s=df[col].max(),y = df[col].max(), color = 'black', fontsize = 14)\n",
    "            ax.text(x = df_2022.index[0], s=f\"峰值：时间：{str(df.index[df['新增本土确诊'].argmax()])} 新增：{df[col].max()}例\",y = df[col].max()/2, color = '#ff0000', fontsize = 18)\n",
    "            ax.text(x = df_2022.index[0], s=f\"今日：时间：{str(df.index[-1])} 新增：{df[col][-1]}例\",y = df[col].max()/3, color = '#ff0000', fontsize = 18)\n",
    "            ax.set_xlabel('日期')\n",
    "            ax.set_ylabel(f'{col}数')\n",
    "            ax.set_title(f'{col}时间序列趋势图',fontsize = 16)\n",
    "\n",
    "        plt.tight_layout()\n",
    "        \n",
    "    return df"
   ]
  },
  {
   "cell_type": "code",
   "execution_count": 10,
   "metadata": {},
   "outputs": [],
   "source": [
    "# GET_shanghai_data(plot = True)"
   ]
  },
  {
   "cell_type": "markdown",
   "metadata": {},
   "source": [
    "<div class=\"alert alert-block alert-danger\">\n",
    "<b>注意：</b>\n",
    "\n",
    "以上的三个获取数据的函数，我写在一个python模块中，叫做`getdata`。\n",
    "    \n",
    "大家在直接调用`getdata.py`文件即可！\n",
    "    \n",
    "</div>"
   ]
  },
  {
   "cell_type": "code",
   "execution_count": 11,
   "metadata": {},
   "outputs": [
    {
     "name": "stdout",
     "output_type": "stream",
     "text": [
      "正在读取【横截面】数据......\n",
      "读取完毕\n",
      "正在读取【时间序列】数据......\n",
      "读取完毕\n",
      "正在获取并处理【上海】数据（数据来自上海卫健委）......\n",
      "读取完毕\n"
     ]
    },
    {
     "data": {
      "image/png": "[encoded data removed]",
      "text/plain": [
       "<Figure size 720x720 with 2 Axes>"
      ]
     },
     "metadata": {},
     "output_type": "display_data"
    }
   ],
   "source": [
    "from getdata import GET_csse_covid_19_daily_reports,GET_csse_covid_19_time_series,GET_shanghai_data\n",
    "\n",
    "# get data\n",
    "latest_data_global,prev_data_global,latest_data_us,prev_data_us = GET_csse_covid_19_daily_reports()\n",
    "ts_confirmed_us,ts_confirmed_global,ts_deaths_us,ts_deaths_global,ts_recovered_global = GET_csse_covid_19_time_series()\n",
    "ts_shanghai_covid = GET_shanghai_data(data_name = 'ts_shanghai_covid', plot=True)  # 这里包含近10天的上海无症状新增趋势！"
   ]
  },
  {
   "cell_type": "markdown",
   "metadata": {},
   "source": [
    "## 项目提案"
   ]
  },
  {
   "cell_type": "markdown",
   "metadata": {},
   "source": [
    "<div align=center>\n",
    "<img src=https://github.com/datoujinggzj/WhaleDataScienceProject/blob/master/pic/11.png?raw=true width='800' />\n",
    "</div>\n",
    "\n",
    "### Purpose\n",
    "\n",
    "在启动一个项目之前，要明确这个项目的商业意义和目标。\n",
    "\n",
    "必须要知道我们在干什么，项目所做的一切都是为了这个目标服务的。\n",
    "\n",
    "请大家不要忽略proposal的重要性！"
   ]
  },
  {
   "cell_type": "markdown",
   "metadata": {},
   "source": [
    "<div class=\"alert alert-block alert-success\"><b>Step 3</b>\n",
    "    \n",
    "根据你的思考，描述本项目的商业意义：\n",
    "\n",
    "- 我们要帮谁解决问题？\n",
    "- 我们要解决什么问题？\n",
    "- 我们如何解决这些问题？\n",
    "</div>"
   ]
  },
  {
   "cell_type": "markdown",
   "metadata": {},
   "source": [
    "### Expectation\n",
    "\n",
    "在这个项目中，我期望给大家带来点不一样的东西。\n",
    "\n",
    "也期待大家学到除了数据分析、数据科学方法的tech的基础之外，带着大家更多地去思考，去探索，去解决问题。\n",
    "\n",
    "> Don't be a coder, be a solver."
   ]
  },
  {
   "cell_type": "markdown",
   "metadata": {},
   "source": [
    "<div class=\"alert alert-block alert-success\"><b>Step 3 </b>针对我们现在有的数据，我们能利用现有的资源，提供什么样的解决方案？\n",
    "\n",
    "请撰写你的 strategy plan（根据下方小贴士）\n",
    "</div>"
   ]
  },
  {
   "cell_type": "markdown",
   "metadata": {},
   "source": [
    "关于strategy plan\n",
    "    \n",
    "> A strategic plan must give you and your team a simple, clear roadmap of what to do next. At its heart should be a prioritized list of your best ideas and specific steps to achieve your goals."
   ]
  },
  {
   "cell_type": "markdown",
   "metadata": {},
   "source": [
    "<div class=\"alert alert-block alert-info\"> \n",
    "<p style=\"font-size:20px; display:inline\">💡</p> <b>小贴士：关于strategy plan</b>\n",
    "\n",
    "战略计划分为三阶段，随着项目进行，我们会不断深入，完善各个阶段的撰写。\n",
    " \n",
    "- Executive Summary（整个项目的Summary，我建议大家每一阶段都整理出来，最后整合）\n",
    "- Future State Plan（依据每一阶段的进展和现状，展开下一阶段的计划）\n",
    "- Current State（目前现状）\n",
    "    \n",
    "⚠️注意：上述三个阶段在实际进行当中是呈倒序的，而在书面中呈此序。\n",
    "    \n",
    "所以你可以尝试按照倒序来写！\n",
    "\n",
    "</div>"
   ]
  },
  {
   "cell_type": "markdown",
   "metadata": {},
   "source": [
    "### Outcome\n",
    "\n",
    "这里给大家讲解一下本项目的建模方法和评估指标\n",
    "\n",
    "归根结底，这是个最终要用算法模型（后面介绍）训练数据，最后去预测趋势。\n",
    "\n",
    "那么我们必然要有评估模型好坏的指标，也就是所谓的**Scoring Metric**。"
   ]
  },
  {
   "cell_type": "markdown",
   "metadata": {},
   "source": [
    "Methods for time series forecasting 有很多，这里分两类：\n",
    "\n",
    "1. 单变量预测 Univariate-time-series-forecasting\n",
    "2. 多变量预测 Multivariate time series forecasting"
   ]
  },
  {
   "cell_type": "markdown",
   "metadata": {},
   "source": [
    "#### 单变量预测\n",
    "\n",
    "在本节中，我们将重点介绍只能查看目标变量的时间序列预测方法。就是不能包含其他回归量到模型中。\n",
    "\n",
    "\n",
    "- [Simple Exponential Smoothing (SES)](https://koalatea.io/python-ses-timeseries/)\n",
    "- [Holt Winter’s Exponential Smoothing (HWES)](https://medium.com/analytics-vidhya/python-code-on-holt-winters-forecasting-3843808a9873)\n",
    "- [Autoregression (AR)](https://machinelearningmastery.com/autoregression-models-time-series-forecasting-python/)\n",
    "- [Moving Average (MA)](https://machinelearningmastery.com/moving-average-smoothing-for-time-series-forecasting-python/)\n",
    "- [Autoregressive Moving Average (ARMA)](https://www.math.pku.edu.cn/teachers/lidf/course/fts/ftsnotes/html/_ftsnotes/fts-arma.html)\n",
    "- [Autoregressive integrated moving average (ARIMA)](https://machinelearningmastery.com/arima-for-time-series-forecasting-with-python/)\n",
    "- [Prophet](https://facebook.github.io/prophet/docs/quick_start.html)\n",
    "\n",
    "\n",
    "#### 多变量预测\n",
    "\n",
    "你可以理解为机器学习预测的那一套知识体系！\n",
    "\n",
    "- Linear\n",
    "- Tree\n",
    "- SVM\n",
    "- NN\n",
    "- DL\n",
    "\n",
    "#### 评估指标\n",
    "\n",
    "- [R-Squared](https://www.investopedia.com/terms/r/r-squared.asp)\n",
    "- [Mean Absolute Error(MAE)](https://en.wikipedia.org/wiki/Mean_absolute_error)\n",
    "- [Mean Absolute Percentage Error(MAPE)](https://www.statisticshowto.com/mean-absolute-percentage-error-mape/)\n",
    "- [Mean Squared Error(MSE)](https://www.statisticshowto.com/probability-and-statistics/statistics-definitions/mean-squared-error/)\n",
    "- [Root Mean Squared Error(RMSE)](https://www.statisticshowto.com/probability-and-statistics/regression-analysis/rmse-root-mean-square-error/)\n",
    "- [Normalized Root Mean Squared Error(NRMSE)](https://stats.stackexchange.com/questions/255276/normalized-root-mean-square-error-nrmse-with-zero-mean-of-observed-value)\n",
    "- [Weighted Absolute Percentage Error(WAPE)](https://stackoverflow.com/questions/68529201/how-to-calculate-wape-for-given-dataframe-in-python)\n",
    "- [Weighted Mean Absolute Percentage Error(WMAPE)](https://www.baeldung.com/cs/mape-vs-wape-vs-wmape)"
   ]
  },
  {
   "cell_type": "markdown",
   "metadata": {},
   "source": [
    "点击图片有惊喜哦👇👇👇\n",
    "\n",
    "<div align=center>\n",
    "<a href='https://mp.weixin.qq.com/mp/appmsgalbum?__biz=Mzg2OTU4NzI3NQ==&action=getalbum&album_id=1764511202329624577&scene=126#wechat_redirect'> \n",
    "<img src=https://github.com/datoujinggzj/WhaleDataScienceProject/blob/master/pic/followme.gif?raw=true width='400' />\n",
    "</div>"
   ]
  },
  {
   "cell_type": "markdown",
   "metadata": {},
   "source": [
    "<div align=center>\n",
    "<a href='https://www.xiaohongshu.com/user/profile/6180a092000000001f03501c?xhsshare=CopyLink&appuid=6180a092000000001f03501c&apptime=1650313282'> \n",
    "<img src=https://github.com/datoujinggzj/WhaleDataScienceProject/blob/master/pic/followme_xhs.gif?raw=true width = 400/>\n",
    "</div>"
   ]
  }
 ],
 "metadata": {
  "kernelspec": {
   "display_name": "Python 3",
   "language": "python",
   "name": "python3"
  },
  "language_info": {
   "codemirror_mode": {
    "name": "ipython",
    "version": 3
   },
   "file_extension": ".py",
   "mimetype": "text/x-python",
   "name": "python",
   "nbconvert_exporter": "python",
   "pygments_lexer": "ipython3",
   "version": "3.7.6"
  }
 },
 "nbformat": 4,
 "nbformat_minor": 4
}
