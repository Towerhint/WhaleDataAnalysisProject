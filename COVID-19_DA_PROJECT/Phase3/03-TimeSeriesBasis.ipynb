{
 "cells": [
  {
   "cell_type": "markdown",
   "metadata": {},
   "source": [
    "<div align=center>\n",
    "<a href='https://mp.weixin.qq.com/mp/appmsgalbum?__biz=Mzg2OTU4NzI3NQ==&action=getalbum&album_id=1764511202329624577&scene=126#wechat_redirect'> \n",
    "<img src=https://github.com/datoujinggzj/WhaleDataScienceProject/blob/master/pic/followme_cover.gif?raw=true  width='800'/>\n",
    "</div>\n",
    "\n",
    "\n",
    "\n",
    "---\n",
    "\n",
    "<div align=center>\n",
    "<a href='https://mp.weixin.qq.com/mp/appmsgalbum?__biz=Mzg2OTU4NzI3NQ==&action=getalbum&album_id=1764511202329624577&scene=126#wechat_redirect'> \n",
    "<img src=https://github.com/datoujinggzj/WhaleDataAnalysisProject/blob/master/pic/shanghai.png?raw=true width='400' />\n",
    "</div>"
   ]
  },
  {
   "cell_type": "markdown",
   "metadata": {},
   "source": [
    "<div align=center>\n",
    "<img src=https://github.com/datoujinggzj/WhaleDataAnalysisProject/blob/master/pic/ts_basis.png?raw=true width='800' />\n",
    "</div>"
   ]
  },
  {
   "cell_type": "markdown",
   "metadata": {},
   "source": [
    "👇👇👇点击可跳转！\n",
    "\n",
    "[第三阶段：时间序列建模预测](#第三阶段：时间序列建模预测)\n",
    "\n",
    "- [时间序列基础](#时间序列基础)\n",
    "   - 1.1 [Decomposition](#Decomposition)\n",
    "   - 1.2 [Stationarity](#Stationarity)\n",
    "   - 1.3 [Transformation](#Transformation)"
   ]
  },
  {
   "cell_type": "markdown",
   "metadata": {},
   "source": [
    "<div class=\"alert alert-block alert-danger\">\n",
    "<b>注意：</b>\n",
    "\n",
    "- 需要翻墙才可下载数据和观看油管视频哦！\n",
    "- 在线看HTML显示不全，请下载到本地操作哦！\n",
    "- 记得解锁代码再去run哦！\n",
    "    \n",
    "</div>"
   ]
  },
  {
   "cell_type": "markdown",
   "metadata": {},
   "source": [
    "<div class=\"alert alert-block alert-warning\">\n",
    "<b>【上海新冠疫情数据分析】项目日志</b>\n",
    "\n",
    "第三阶段：【时间序列建模预测】\n",
    "    \n",
    "第二节阶段核心目的：学习并掌握时间序列分析基础！\n",
    "    \n",
    "难度（最高5星）：⭐⭐⭐⭐\n",
    "\n",
    "Good Luck!\n",
    "</div>\n"
   ]
  },
  {
   "cell_type": "markdown",
   "metadata": {},
   "source": [
    "# 第三阶段：时间序列建模预测"
   ]
  },
  {
   "cell_type": "code",
   "execution_count": null,
   "metadata": {},
   "outputs": [],
   "source": [
    "import warnings\n",
    "\n",
    "import matplotlib as mpl\n",
    "import numpy as np\n",
    "import pandas as pd  # Basic library for all of our dataset operations\n",
    "import statsmodels as sm\n",
    "import tensorflow as tf\n",
    "from matplotlib import pyplot as plt\n",
    "from pylab import rcParams\n",
    "from sklearn.linear_model import LinearRegression\n",
    "from statsmodels.graphics.tsaplots import plot_acf, plot_pacf\n",
    "from statsmodels.tsa import api as smt\n",
    "from statsmodels.tsa.seasonal import seasonal_decompose\n",
    "from statsmodels.tsa.stattools import adfuller\n",
    "\n",
    "\n",
    "# We will use deprecated models of statmodels which throw a lot of warnings to use more modern ones\n",
    "warnings.filterwarnings(\"ignore\")\n",
    "\n",
    "\n",
    "# Extra settings\n",
    "seed = 42\n",
    "tf.random.set_seed(seed)\n",
    "np.random.seed(seed)\n",
    "plt.style.use('bmh')\n",
    "mpl.rcParams['axes.labelsize'] = 14\n",
    "mpl.rcParams['xtick.labelsize'] = 12\n",
    "mpl.rcParams['ytick.labelsize'] = 12\n",
    "mpl.rcParams['text.color'] = 'k'\n",
    "rcParams['figure.figsize'] = 18, 8\n",
    "plt.rcParams['font.sans-serif']=['SimHei'] #用来正常显示中文标签\n",
    "plt.rcParams['axes.unicode_minus'] = False #用来正常显示负号\n",
    "\n",
    "# change text color\n",
    "import colorama\n",
    "from colorama import Fore, Style\n",
    "\n",
    "print(tf.__version__)"
   ]
  },
  {
   "cell_type": "code",
   "execution_count": 1,
   "metadata": {},
   "outputs": [],
   "source": [
    "# IPython\n",
    "from IPython.display import IFrame"
   ]
  },
  {
   "cell_type": "markdown",
   "metadata": {},
   "source": [
    "## 时间序列基础\n",
    "\n",
    "首先，欢迎大家来到最后一阶段的学习，这篇文章带大家来介绍，或者说回顾关于时间序列的一些理解，并带着大家尝试发现一些新的东西。"
   ]
  },
  {
   "cell_type": "markdown",
   "metadata": {},
   "source": [
    "大概结构如下：\n",
    "\n",
    "- Time series decomposition\n",
    "\n",
    "    - Level\n",
    "    - Trend\n",
    "    - Seasonality\n",
    "    - Noise\n",
    "- Stationarity\n",
    "    - AC and PAC plots\n",
    "    - Rolling mean and std\n",
    "    - Dickey-Fuller test\n",
    "- Making our time series stationary\n",
    "    - Difference transform\n",
    "    - Log scale\n",
    "    - Smoothing\n",
    "    - Moving average"
   ]
  },
  {
   "cell_type": "markdown",
   "metadata": {},
   "source": [
    "时间序列数据：\n",
    "\n",
    "- time_series_covid19_confirmed_US.csv\n",
    "- time_series_covid19_confirmed_global.csv\n",
    "- time_series_covid19_deaths_US.csv\n",
    "- time_series_covid19_deaths_global.csv\n",
    "- time_series_covid19_recovered_global.csv\n",
    "\n",
    "横截面数据：\n",
    "\n",
    "- csse_covid_19_daily_reports\n",
    "- csse_covid_19_daily_reports_us"
   ]
  },
  {
   "cell_type": "code",
   "execution_count": null,
   "metadata": {},
   "outputs": [],
   "source": [
    "from getdata import GET_csse_covid_19_daily_reports,GET_csse_covid_19_time_series,GET_shanghai_data\n",
    "\n",
    "# get data\n",
    "latest_data_global,prev_data_global,latest_data_us,prev_data_us = GET_csse_covid_19_daily_reports()\n",
    "ts_confirmed_us,ts_confirmed_global,ts_deaths_us,ts_deaths_global,ts_recovered_global = GET_csse_covid_19_time_series()\n",
    "ts_shanghai_covid = GET_shanghai_data(data_name = 'ts_shanghai_covid', plot=True)  # 这里包含近10天的上海无症状新增趋势！"
   ]
  },
  {
   "cell_type": "code",
   "execution_count": null,
   "metadata": {},
   "outputs": [],
   "source": [
    "from data_processing import ts_process_CHINA,ts_process_US,daily_process"
   ]
  },
  {
   "cell_type": "code",
   "execution_count": null,
   "metadata": {},
   "outputs": [],
   "source": [
    "ts_confirmed_CHINA_incre, loc_data_CHINA, sorted_provinces = ts_process_CHINA(ts_confirmed_global,clip=False)\n",
    "ts_deaths_CHINA_incre, _, _ = ts_process_CHINA(ts_deaths_global,clip=False)\n",
    "ts_recovered_CHINA_incre, _, _ = ts_process_CHINA(ts_recovered_global,clip=False)"
   ]
  },
  {
   "cell_type": "code",
   "execution_count": null,
   "metadata": {},
   "outputs": [],
   "source": [
    "ts_confirmed_US_incre,loc_data_us,sorted_state = ts_process_US(ts_confirmed_us,clip=False)\n",
    "ts_deaths_US_incre,_,_,population = ts_process_US(ts_deaths_us,death = True,clip=False)"
   ]
  },
  {
   "cell_type": "code",
   "execution_count": null,
   "metadata": {},
   "outputs": [],
   "source": [
    "latest_data_CHINA = daily_process(latest_data_global, country = 'China')\n",
    "prev_data_CHINA = daily_process(prev_data_global, country = 'China')\n",
    "latest_data_US = daily_process(latest_data_us, country = 'US')\n",
    "prev_data_US = daily_process(prev_data_us, country = 'US')"
   ]
  },
  {
   "cell_type": "markdown",
   "metadata": {},
   "source": [
    "<div align=center>\n",
    "<img src=https://github.com/datoujinggzj/WhaleDataScienceProject/blob/master/pic/perfect.jpg?raw=true width='200' />\n",
    "</div>"
   ]
  },
  {
   "cell_type": "markdown",
   "metadata": {},
   "source": [
    "<div align=center>\n",
    "<img src=https://github.com/datoujinggzj/WhaleDataScienceProject/blob/master/pic/sep.gif?raw=true width='800' />\n",
    "</div>"
   ]
  },
  {
   "cell_type": "code",
   "execution_count": 5,
   "metadata": {},
   "outputs": [
    {
     "data": {
      "text/html": [
       "\n",
       "        <iframe\n",
       "            width=\"853\"\n",
       "            height=\"480\"\n",
       "            src=\"https://www.youtube.com/embed/1VwHG6ceuz4\"\n",
       "            frameborder=\"0\"\n",
       "            allowfullscreen\n",
       "        ></iframe>\n",
       "        "
      ],
      "text/plain": [
       "<IPython.lib.display.IFrame at 0x1eeb8a1abc8>"
      ]
     },
     "execution_count": 5,
     "metadata": {},
     "output_type": "execute_result"
    }
   ],
   "source": [
    "IFrame(width=\"853\",height=\"480\",src = \"https://www.youtube.com/embed/1VwHG6ceuz4\")"
   ]
  },
  {
   "cell_type": "code",
   "execution_count": null,
   "metadata": {},
   "outputs": [],
   "source": [
    "ts_confirmed_CHINA_incre.head()"
   ]
  },
  {
   "cell_type": "code",
   "execution_count": null,
   "metadata": {},
   "outputs": [],
   "source": [
    "ts_confirmed_CHINA_incre.describe().T.sort_values('max',ascending=False)"
   ]
  },
  {
   "cell_type": "code",
   "execution_count": null,
   "metadata": {},
   "outputs": [],
   "source": [
    "# pip install my-covid-report==1.6\n",
    "from covid_report import getdata,data_processing,covid_visualization"
   ]
  },
  {
   "cell_type": "code",
   "execution_count": null,
   "metadata": {},
   "outputs": [],
   "source": [
    "start_missing_day = '2022-04-08'\n",
    "data_to_change = ts_confirmed_CHINA_incre['Shanghai'][ts_confirmed_CHINA_incre['Shanghai'].index>=start_missing_day]\n",
    "ts_confirmed_CHINA_incre['Shanghai'][ts_confirmed_CHINA_incre['Shanghai'].index>=start_missing_day] = ts_shanghai_covid['新增本土确诊'][ts_shanghai_covid.index>=start_missing_day][data_to_change.index]"
   ]
  },
  {
   "cell_type": "code",
   "execution_count": null,
   "metadata": {
    "scrolled": false
   },
   "outputs": [],
   "source": [
    "covid_visualization.Decompose_CHINA(\n",
    "    ts_confirmed_CHINA_incre,\n",
    "    latest_data_CHINA,\n",
    "    prev_data_CHINA,\n",
    "    start='2022-03-15',\n",
    "    ma = [3,7],\n",
    "    method = '新增',              # method = '累计'\n",
    "    specify = 'Shanghai',         # specify = 'Shanghai' specify = 'All' specify = None\n",
    "    verbose = 1,\n",
    "    kind = '确诊'\n",
    ")"
   ]
  },
  {
   "cell_type": "markdown",
   "metadata": {},
   "source": [
    "### Decomposition\n",
    "\n",
    "Decomposition，是分解的意思，就是把一个时间序列，拆解成多个部分，可以分解成这四个分解属性：\n",
    "\n",
    "- level\n",
    "- trend\n",
    "- seasonality\n",
    "- noise\n",
    "\n",
    "```diff\n",
    "- 所有的时序数据都有level和noise，但是trend和seasonality不一定！\n",
    "```\n",
    "\n",
    "这4部分组合起来就形成了我们所说的时间序列。\n",
    "\n",
    "那么应该怎么组合呢？\n",
    "\n",
    "- Additive\n",
    "\n",
    "```\n",
    "y(t) = level + trend + seasonality + noise\n",
    "```\n",
    "\n",
    "\n",
    "Additive模型是线性的。趋势是线性的，季节性具有恒定的频率和幅度。随着时间的推移，变化是恒定的。\n",
    "\n",
    "- Multiplicative \n",
    "\n",
    "\n",
    "```\n",
    "y(t) = level * trend * seasonality * noise\n",
    "```\n",
    "Multiplicative模型是非线性的。趋势是非线性的，季节性不恒定。随着时间的推移，变化是不恒定的。\n",
    "\n",
    "大多数时间序列是加法模型和乘法模型的组合，很难将现实世界的时间序列识别为一个单一的模型。"
   ]
  },
  {
   "cell_type": "markdown",
   "metadata": {},
   "source": [
    "- Automatic time series decomposition\n",
    "\n",
    "Statsmodel python 库提供了一个函数`seasonal_compose()`来自动分解时间序列，需要指定模型是加法还是乘法。"
   ]
  },
  {
   "cell_type": "code",
   "execution_count": null,
   "metadata": {},
   "outputs": [],
   "source": [
    "ts_shanghai_confirmed = ts_shanghai_covid['新增本土确诊']\n",
    "ts_shanghai_asymptomatic = ts_shanghai_covid['新增本土无症状']"
   ]
  },
  {
   "cell_type": "code",
   "execution_count": null,
   "metadata": {},
   "outputs": [],
   "source": [
    "# 上海自2020年开始\n",
    "series_2020 = ts_confirmed_CHINA_incre['Shanghai']\n",
    "result = seasonal_decompose(series_2020, model='additive')\n",
    "result.plot()\n",
    "plt.show()"
   ]
  },
  {
   "cell_type": "code",
   "execution_count": null,
   "metadata": {},
   "outputs": [],
   "source": [
    "# 上海自2022年开始\n",
    "series_2022 = ts_shanghai_confirmed[ts_shanghai_confirmed.index>'2022-01-01']\n",
    "result = seasonal_decompose(series_2022, model='additive')\n",
    "result.plot()\n",
    "plt.show() "
   ]
  },
  {
   "cell_type": "code",
   "execution_count": null,
   "metadata": {},
   "outputs": [],
   "source": [
    "# 纽约\n",
    "nyc_series = ts_confirmed_US_incre['New York']\n",
    "nyc_result = seasonal_decompose(nyc_series, model='additive')\n",
    "nyc_result.plot()\n",
    "plt.show() "
   ]
  },
  {
   "cell_type": "markdown",
   "metadata": {},
   "source": [
    "#### level\n",
    "\n",
    "level可以理解为 the mean of the series，在我们去除trend、seasonality和noise之后，剩下的就是level，也是我们真正要预测的东西，脱下一层层的外衣，要去预测的其实就是the mean of the series。\n",
    "\n",
    "#### Trend\n",
    "\n",
    "trend有一个长期的轨迹趋势，可以是正向或负向。\n",
    "\n",
    "从最基本的折线图就可以看出是否存在趋势了，那么再介绍一些检测序列是否有trend的方法：\n",
    "\n",
    "- Automatic decomposing\n",
    "- Moving average\n",
    "- linear regression"
   ]
  },
  {
   "cell_type": "code",
   "execution_count": null,
   "metadata": {},
   "outputs": [],
   "source": [
    "fig = plt.figure(figsize=(15, 7))\n",
    "layout = (3, 2)\n",
    "pm_ax = plt.subplot2grid(layout, (0, 0), colspan=2)\n",
    "mv_ax = plt.subplot2grid(layout, (1, 0), colspan=2)\n",
    "fit_ax = plt.subplot2grid(layout, (2, 0), colspan=2)\n",
    "\n",
    "pm_ax.plot(nyc_result.trend)\n",
    "pm_ax.set_title(\"NYC Automatic decomposed trend\")\n",
    " \n",
    "mm = nyc_series.rolling(30).mean()\n",
    "mv_ax.plot(mm)\n",
    "mv_ax.set_title(\"30 Day Moving average\")\n",
    "\n",
    "\n",
    "X = [i for i in range(0, len(nyc_series))]\n",
    "X = np.reshape(X, (len(X), 1))\n",
    "y = nyc_series\n",
    "model = LinearRegression()\n",
    "model.fit(X, y)\n",
    "# calculate trend\n",
    "trend = model.predict(X)\n",
    "fit_ax.plot(trend)\n",
    "fit_ax.set_title(\"Trend fitted by linear regression\")\n",
    "\n",
    "plt.tight_layout()"
   ]
  },
  {
   "cell_type": "markdown",
   "metadata": {},
   "source": [
    "可以看出纽约的新增确诊趋势不清晰，没有一个明确的线性关系。好像里面包含着不少的seasonality和noise。"
   ]
  },
  {
   "cell_type": "markdown",
   "metadata": {},
   "source": [
    "#### Seasonality\n",
    "\n",
    "当由于季节性因素在定期间隔之间观察到明显的重复模式时，就会观察到季节性。这可能是因为一年中的月份、月份中的某一天、工作日甚至一天中的时间。比如冰激凌的销量（冬天总是低，夏天总是高）。\n",
    "\n",
    "一般，我们在长序列中发现seasonality不是很清楚的时候，一般会拆解为更小的序列，再去比较各part的seasonality。"
   ]
  },
  {
   "cell_type": "code",
   "execution_count": null,
   "metadata": {},
   "outputs": [],
   "source": [
    "plt.subplot(411)\n",
    "nyc_series = ts_confirmed_US_incre['New York']\n",
    "nyc_result = seasonal_decompose(nyc_series, model='additive')\n",
    "nyc_result.seasonal.plot()\n",
    "plt.ylabel('Total')\n",
    "plt.subplot(412)\n",
    "nyc_series_2020 = ts_confirmed_US_incre['New York'][ts_confirmed_US_incre.index<'2021']\n",
    "nyc_result_2020 = seasonal_decompose(nyc_series_2020, model='additive')\n",
    "nyc_result_2020.seasonal.plot()\n",
    "plt.ylabel('2020')\n",
    "plt.subplot(413)\n",
    "nyc_series_2021 = ts_confirmed_US_incre['New York'][(ts_confirmed_US_incre.index>'2021') &(ts_confirmed_US_incre.index<'2022')]\n",
    "nyc_result_2021 = seasonal_decompose(nyc_series_2021, model='additive')\n",
    "nyc_result_2021.seasonal.plot()\n",
    "plt.ylabel('2021')\n",
    "plt.subplot(414)\n",
    "nyc_series_2022 = ts_confirmed_US_incre['New York'][ts_confirmed_US_incre.index>'2022']\n",
    "nyc_result_2022 = seasonal_decompose(nyc_series_2022, model='additive')\n",
    "nyc_result_2022.seasonal.plot()\n",
    "plt.ylabel('2022')"
   ]
  },
  {
   "cell_type": "markdown",
   "metadata": {},
   "source": [
    "可以看出每个月有4个spike，就是高点的意思。但是2021、2022年貌似更频繁一些，一个月有8个spike。"
   ]
  },
  {
   "cell_type": "markdown",
   "metadata": {},
   "source": [
    "#### Noise\n",
    "\n",
    "这里的噪声，可以理解为白噪声，也就是完全的随机。\n",
    "\n",
    "如果时序数据有白噪声，说明我们不能做时序的预测。\n",
    "\n",
    "如何检测？\n",
    "\n",
    "- 查看分布，是否像高斯分布，均值为0，方差稳定\n",
    "- ACF\n",
    "- mean是否随时间变化"
   ]
  },
  {
   "cell_type": "code",
   "execution_count": null,
   "metadata": {},
   "outputs": [],
   "source": [
    "fig = plt.figure(figsize=(12, 7))\n",
    "layout = (2, 2)\n",
    "hist_ax = plt.subplot2grid(layout, (0, 0))\n",
    "ac_ax = plt.subplot2grid(layout, (1, 0))\n",
    "hist_std_ax = plt.subplot2grid(layout, (0, 1))\n",
    "mean_ax = plt.subplot2grid(layout, (1, 1))\n",
    "\n",
    "nyc_series.hist(ax=hist_ax)\n",
    "hist_ax.set_title(\"Original series histogram\")\n",
    "\n",
    "plot_acf(nyc_series, lags=30, ax=ac_ax)\n",
    "ac_ax.set_title(\"Autocorrelation\")\n",
    "\n",
    "mm = nyc_series.rolling(7).std()\n",
    "mm.hist(ax=hist_std_ax)\n",
    "hist_std_ax.set_title(\"Standard deviation histogram\")\n",
    "\n",
    "mm = nyc_series.rolling(30).mean()\n",
    "mm.plot(ax=mean_ax)\n",
    "mean_ax.set_title(\"Mean over time\")"
   ]
  },
  {
   "cell_type": "markdown",
   "metadata": {},
   "source": [
    "很明显，我们的时序数据不服从高斯分布，并且子相关系数也没在蓝色阴影区间内，说名不含白噪声。"
   ]
  },
  {
   "cell_type": "code",
   "execution_count": 4,
   "metadata": {},
   "outputs": [
    {
     "data": {
      "text/html": [
       "\n",
       "        <iframe\n",
       "            width=\"853\"\n",
       "            height=\"480\"\n",
       "            src=\"https://www.youtube.com/embed/dKxMd2U4RwQ\"\n",
       "            frameborder=\"0\"\n",
       "            allowfullscreen\n",
       "        ></iframe>\n",
       "        "
      ],
      "text/plain": [
       "<IPython.lib.display.IFrame at 0x1eeb8a1a5c8>"
      ]
     },
     "execution_count": 4,
     "metadata": {},
     "output_type": "execute_result"
    }
   ],
   "source": [
    "IFrame(width=\"853\",height=\"480\",src = \"https://www.youtube.com/embed/dKxMd2U4RwQ\")"
   ]
  },
  {
   "cell_type": "markdown",
   "metadata": {},
   "source": [
    "### Stationarity\n",
    "\n",
    "> A stationary time seris means that its properties do not change with time.\n",
    "\n",
    "均值方差是恒定的，协方差不随着时间改变而改变。\n",
    "\n",
    "大部分的模型都喜欢稳态序列，所以我们可以把序列转换成stationary。\n",
    "\n",
    "如何检测？\n",
    "\n",
    "#### ACF and PACF\n",
    "\n",
    "大家都对correlation比较熟悉吧，描述的是变量之间的线性相关程度，那么autocorrelation怎么去理解呢?\n",
    "\n",
    "可以理解为同一变量，固定时间间隔分解的数据之间的相关程度。\n",
    "\n",
    "> If the data would be non-stationary the autocorrelation values will be highly correlated with distant points in time showing possible seasonalities or trends.\n",
    "\n",
    "> Stationary series autocorrelation values will quickly decrease over time t. This shows us that no information is carried over time and then the series should be constant over time."
   ]
  },
  {
   "cell_type": "code",
   "execution_count": null,
   "metadata": {},
   "outputs": [],
   "source": [
    "plot_acf(nyc_series, lags=30)\n",
    "plot_pacf(nyc_series, lags=30)\n",
    "plt.show()"
   ]
  },
  {
   "cell_type": "markdown",
   "metadata": {},
   "source": [
    "ACF并没有很快降到0，所以不是stationary。"
   ]
  },
  {
   "cell_type": "markdown",
   "metadata": {},
   "source": [
    "#### Rolling means and standard deviation\n",
    "\n",
    "第二个就是检查mean和std是否不随时间变化而变化，如果是这样，那就是stationary。"
   ]
  },
  {
   "cell_type": "code",
   "execution_count": null,
   "metadata": {},
   "outputs": [],
   "source": [
    "rolmean = nyc_series.rolling(window=30).mean()\n",
    "rolstd = nyc_series.rolling(window=30).std()\n",
    "\n",
    "# Plot rolling statistics:\n",
    "orig = plt.plot(nyc_series, label='Original',alpha = .3)\n",
    "mean = plt.plot(rolmean, color='red', label='Rolling Mean')\n",
    "std = plt.plot(rolstd, color='green', label='Rolling Std')\n",
    "plt.legend()\n",
    "plt.title('Rolling Mean & Standard Deviation')\n",
    "plt.show(block=False)"
   ]
  },
  {
   "cell_type": "markdown",
   "metadata": {},
   "source": [
    "很明显，均值和标准差并不是随着时间恒定不变的，所以，这不是stationary的。"
   ]
  },
  {
   "cell_type": "markdown",
   "metadata": {},
   "source": [
    "#### Augmented Dickey-Fuller test\n",
    "\n",
    "但是光看图显然不是个很好的方法，眼睛往往具有欺骗性，我们需要一个 robust formal method 去检验序列是否是 stationary 的。\n",
    "\n",
    "这里就引入了**ADF检验**，下面是其介绍。\n",
    "\n",
    "Augmented Dickey-Fuller 检验是一种称为单位根检验的统计检验。单位根检验背后的直觉是，它决定了趋势定义时间序列的强度。有许多单位根检验，而 Augmented Dickey-Fuller 可能是使用更广泛的一种。它使用自回归模型并跨多个不同的滞后值优化信息标准。\n",
    "\n",
    "检验的零假设是时间序列可以用单位根表示，它不是平稳的（具有一些时间相关的结构）。另一种假设（拒绝原假设）是时间序列是平稳的。\n",
    "\n",
    "零假设（H0）：如果没有被拒绝，则表明时间序列有单位根，意味着它是非平稳的。它有一些时间相关的结构。替代假设（H1）：拒绝原假设；它表明时间序列没有单位根，这意味着它是平稳的。它没有时间依赖的结构。我们使用来自测试的 p 值来解释这个结果。低于阈值（例如 5% 或 1%）的 p 值表明我们拒绝原假设（平稳），否则高于阈值的 p 值表明我们未能拒绝原假设（非平稳）。\n",
    "\n",
    "p 值 > 0.05：无法拒绝原假设 (H0)，数据具有单位根且非平稳。 p-value <= 0.05：拒绝原假设（H0），数据没有单位根并且是平稳的。下面是在 Daily Female Births 数据集上计算 Augmented Dickey-Fuller 检验的示例。 statsmodels 库提供了实现测试的 adfuller() 函数。|"
   ]
  },
  {
   "cell_type": "code",
   "execution_count": 2,
   "metadata": {},
   "outputs": [
    {
     "data": {
      "text/html": [
       "\n",
       "        <iframe\n",
       "            width=\"853\"\n",
       "            height=\"480\"\n",
       "            src=\"https://www.youtube.com/embed/1opjnegd_hA\"\n",
       "            frameborder=\"0\"\n",
       "            allowfullscreen\n",
       "        ></iframe>\n",
       "        "
      ],
      "text/plain": [
       "<IPython.lib.display.IFrame at 0x1eeb89e4fc8>"
      ]
     },
     "execution_count": 2,
     "metadata": {},
     "output_type": "execute_result"
    }
   ],
   "source": [
    "IFrame(width=\"853\",height=\"480\",src = \"https://www.youtube.com/embed/1opjnegd_hA\")"
   ]
  },
  {
   "cell_type": "code",
   "execution_count": null,
   "metadata": {},
   "outputs": [],
   "source": [
    "X = nyc_series\n",
    "result = adfuller(X)\n",
    "print('ADF Statistic: %f' % result[0])\n",
    "print('p-value: %f' % result[1])\n",
    "print('Critical Values:')\n",
    "for key, value in result[4].items():\n",
    "    print('\\t%s: %.3f' % (key, value))"
   ]
  },
  {
   "cell_type": "markdown",
   "metadata": {},
   "source": [
    "可以看到 p-value: 0.007040 是小于 0.05的，所以拒绝原假设H0，意味着序列是平稳的。"
   ]
  },
  {
   "cell_type": "markdown",
   "metadata": {},
   "source": [
    "下面，我们把之前的分析合并成一个函数！"
   ]
  },
  {
   "cell_type": "code",
   "execution_count": null,
   "metadata": {},
   "outputs": [],
   "source": [
    "nyc_series.index"
   ]
  },
  {
   "cell_type": "code",
   "execution_count": null,
   "metadata": {},
   "outputs": [],
   "source": [
    "def tsplot(y, lags=None, figsize=(12, 7), ma = 30, decompose = True):\n",
    "    if not isinstance(y, pd.Series):\n",
    "        y = pd.Series(y)\n",
    "\n",
    "    with plt.style.context(style='bmh'):\n",
    "        fig = plt.figure(figsize=(12, 7))\n",
    "        layout = (3, 2)\n",
    "        ts_ax = plt.subplot2grid(layout, (0, 0), colspan=2)\n",
    "        acf_ax = plt.subplot2grid(layout, (1, 0))\n",
    "        pacf_ax = plt.subplot2grid(layout, (1, 1))\n",
    "        mean_std_ax = plt.subplot2grid(layout, (2, 0), colspan=2)\n",
    "        #y.plot.area(ax=ts_ax)\n",
    "        ts_ax.step(y.index,y,color = '#202124',linewidth = .5)\n",
    "        ts_ax.bar(y.index,y,alpha = .8)\n",
    "        \n",
    "        p_value = sm.tsa.stattools.adfuller(y)[1]\n",
    "        hypothesis_result = \"We reject H0 and the series is stationary\" if p_value <= 0.05 else \"We can not reject H0 and the series is NOT stationary\"\n",
    "        ts_ax.set_title(\n",
    "            'Time Series Stationary Analysis Plots\\n Dickey-Fuller: p={0:.5f} \\n Result: {1}'.format(p_value, hypothesis_result),\n",
    "        fontsize = 20)\n",
    "        smt.graphics.plot_acf(y, lags=lags, ax=acf_ax)\n",
    "        smt.graphics.plot_pacf(y, lags=lags, ax=pacf_ax)\n",
    "        plt.tight_layout()\n",
    "\n",
    "        rolmean = y.rolling(window=ma).mean()\n",
    "        rolstd = y.rolling(window=ma).std()\n",
    "\n",
    "        # Plot rolling statistics:\n",
    "        orig = plt.plot(y, label='Original',alpha = .3)\n",
    "        mean = plt.plot(rolmean, color='red', label='Rolling Mean')\n",
    "        std = plt.plot(rolstd, color='black', label='Rolling Std')\n",
    "        plt.legend(loc='best')\n",
    "        plt.title('Rolling Mean & Standard Deviation')\n",
    "        print(f\"ADF检验结果：{Fore.RED}{hypothesis_result}{Style.RESET_ALL}\")\n",
    "        print(f\"ADF检验所得P值：{Fore.BLUE}{round(p_value,6)}{Style.RESET_ALL}\")\n",
    "    if decompose:\n",
    "        plt.rcParams[\"figure.figsize\"] = (12,8)\n",
    "        result = seasonal_decompose(y, model='additive')\n",
    "        result.plot()\n",
    "        plt.show() \n",
    "\n",
    "tsplot(nyc_series, lags=30)"
   ]
  },
  {
   "cell_type": "markdown",
   "metadata": {},
   "source": [
    "<div class=\"alert alert-block alert-info\"> \n",
    "<p style=\"font-size:20px; display:inline\">💡</p> 思考：\n",
    "\n",
    "例子使用的是纽约的数据，请尝试使用【上海】的数据，并告诉我，上海的新增确诊时序数据是平稳的么？\n",
    "</div>"
   ]
  },
  {
   "cell_type": "markdown",
   "metadata": {},
   "source": [
    "### Transformation\n",
    "\n",
    "那么如果不是平稳的，我们应该怎么把它变成平稳的呢？\n",
    "\n",
    "这里我们使用经典的数据集`airline-passengers.csv`，它不是平稳的，这里我们要把它变为平稳的序列。"
   ]
  },
  {
   "cell_type": "code",
   "execution_count": 3,
   "metadata": {},
   "outputs": [
    {
     "data": {
      "text/html": [
       "\n",
       "        <iframe\n",
       "            width=\"853\"\n",
       "            height=\"480\"\n",
       "            src=\"https://www.youtube.com/embed/bP1fbXd_XSk\"\n",
       "            frameborder=\"0\"\n",
       "            allowfullscreen\n",
       "        ></iframe>\n",
       "        "
      ],
      "text/plain": [
       "<IPython.lib.display.IFrame at 0x1eeb8a0bfc8>"
      ]
     },
     "execution_count": 3,
     "metadata": {},
     "output_type": "execute_result"
    }
   ],
   "source": [
    "IFrame(width=\"853\",height=\"480\",src = \"https://www.youtube.com/embed/bP1fbXd_XSk\")"
   ]
  },
  {
   "cell_type": "code",
   "execution_count": null,
   "metadata": {},
   "outputs": [],
   "source": [
    "url = 'https://raw.githubusercontent.com/jbrownlee/Datasets/master/airline-passengers.csv'\n",
    "passengers = pd.read_csv(url)"
   ]
  },
  {
   "cell_type": "code",
   "execution_count": null,
   "metadata": {},
   "outputs": [],
   "source": [
    "passengers.Passengers.plot(label='Original')\n",
    "passengers.Passengers.rolling(window=12).mean().plot(\n",
    "    color='red', label='Windowed mean')\n",
    "passengers.Passengers.rolling(window=12).std().plot(\n",
    "    color='black', label='Std mean')\n",
    "plt.legend(fontsize = 14)\n",
    "plt.title('Original vs Windowed mean vs Windowed std')"
   ]
  },
  {
   "cell_type": "code",
   "execution_count": null,
   "metadata": {},
   "outputs": [],
   "source": [
    "passengers"
   ]
  },
  {
   "cell_type": "code",
   "execution_count": null,
   "metadata": {},
   "outputs": [],
   "source": [
    "tsplot(passengers.Passengers, lags=30, ma = 7, decompose=False)"
   ]
  },
  {
   "cell_type": "markdown",
   "metadata": {},
   "source": [
    "P值远大于0.05，所以不是平稳的。"
   ]
  },
  {
   "cell_type": "markdown",
   "metadata": {},
   "source": [
    "#### Differencing\n",
    "\n",
    "> Differencing can help stabilize the mean of the time series by removing changes in the level of a time series, and so eliminating (or reducing) trend and seasonality.\n",
    "\n",
    "`difference(t) = observation(t) - observation(t-1)`"
   ]
  },
  {
   "cell_type": "code",
   "execution_count": null,
   "metadata": {},
   "outputs": [],
   "source": [
    "def difference(dataset, interval=1, order=1):\n",
    "    for u in range(order):\n",
    "        diff = list()\n",
    "        for i in range(interval, len(dataset)):\n",
    "            value = dataset[i] - dataset[i - interval]\n",
    "            diff.append(value)\n",
    "        dataset = diff\n",
    "    return diff"
   ]
  },
  {
   "cell_type": "code",
   "execution_count": null,
   "metadata": {},
   "outputs": [],
   "source": [
    "plt.subplot(211)\n",
    "plt.title('Manual Differencing')\n",
    "plt.plot(difference(passengers.Passengers))\n",
    "plt.subplot(212)\n",
    "plt.title('Auto Differencing')\n",
    "plt.plot(passengers.Passengers.diff())"
   ]
  },
  {
   "cell_type": "markdown",
   "metadata": {},
   "source": [
    "如果trend和seasonality一次去干净，那么我们可以反复使用diff()。"
   ]
  },
  {
   "cell_type": "code",
   "execution_count": null,
   "metadata": {},
   "outputs": [],
   "source": [
    "plt.subplot(211)\n",
    "plt.title('Manual Differencing 2nd order')\n",
    "plt.plot(difference(passengers.Passengers,order = 2))\n",
    "plt.subplot(212)\n",
    "plt.title('Auto Differencing 2nd order')\n",
    "plt.plot(passengers.Passengers.diff().diff())"
   ]
  },
  {
   "cell_type": "code",
   "execution_count": null,
   "metadata": {},
   "outputs": [],
   "source": [
    "lag1series = pd.Series(difference(passengers.Passengers, interval=1, order=1))\n",
    "lag3series = pd.Series(difference(passengers.Passengers, interval=3, order=1))\n",
    "lag1order2series = pd.Series(difference(\n",
    "    passengers.Passengers, interval=1, order=2))\n",
    "\n",
    "fig = plt.figure(figsize=(14, 11))\n",
    "layout = (3, 2)\n",
    "original = plt.subplot2grid(layout, (0, 0), colspan=2)\n",
    "lag1 = plt.subplot2grid(layout, (1, 0))\n",
    "lag3 = plt.subplot2grid(layout, (1, 1))\n",
    "lag1order2 = plt.subplot2grid(layout, (2, 0), colspan=2)\n",
    "\n",
    "original.set_title('Original series')\n",
    "original.plot(passengers.Passengers, label='Original')\n",
    "original.plot(passengers.Passengers.rolling(\n",
    "    7).mean(), color='red', label='Rolling Mean')\n",
    "original.plot(passengers.Passengers.rolling(7).std(),\n",
    "              color='black', label='Rolling Std')\n",
    "original.legend(loc='best')\n",
    "\n",
    "lag1.set_title('Difference series with lag 1 order 1')\n",
    "lag1.plot(lag1series, label=\"Lag1\")\n",
    "lag1.plot(lag1series.rolling(7).mean(), color='red', label='Rolling Mean')\n",
    "lag1.plot(lag1series.rolling(7).std(), color='black', label='Rolling Std')\n",
    "lag1.legend(loc='best')\n",
    "\n",
    "lag3.set_title('Difference series with lag 3 order 1')\n",
    "lag3.plot(lag3series, label=\"Lag3\")\n",
    "lag3.plot(lag3series.rolling(7).mean(), color='red', label='Rolling Mean')\n",
    "lag3.plot(lag3series.rolling(7).std(), color='black', label='Rolling Std')\n",
    "lag3.legend(loc='best')\n",
    "\n",
    "lag1order2.set_title('Difference series with lag 1 order 2')\n",
    "lag1order2.plot(lag1order2series, label=\"Lag1order2\")\n",
    "lag1order2.plot(lag1order2series.rolling(7).mean(),\n",
    "                color='red', label='Rolling Mean')\n",
    "lag1order2.plot(lag1order2series.rolling(7).std(),\n",
    "                color='black', label='Rolling Std')\n",
    "lag1order2.legend(loc='best')"
   ]
  },
  {
   "cell_type": "markdown",
   "metadata": {},
   "source": [
    "#### Log / Sqrt / Pct scale transformation\n",
    "\n",
    "- np.log()\n",
    "- np.sqrt()\n",
    "- df.shift(1)/df\n",
    "\n"
   ]
  },
  {
   "cell_type": "code",
   "execution_count": null,
   "metadata": {},
   "outputs": [],
   "source": [
    "plt.subplot(311)\n",
    "ts_log = np.log(passengers.Passengers)\n",
    "ts_log.plot(label='Log scale result')\n",
    "ts_log.rolling(window=12).mean().plot(color='red', label='Windowed mean')\n",
    "ts_log.rolling(window=12).std().plot(color='black', label='Std mean')\n",
    "plt.legend()\n",
    "plt.title('Log scale transformation into original series')\n",
    "\n",
    "\n",
    "plt.subplot(312)\n",
    "ts_sqrt = np.sqrt(passengers.Passengers)\n",
    "ts_sqrt.plot(label='Sqrt result')\n",
    "ts_sqrt.rolling(window=12).mean().plot(color='red', label='Windowed mean')\n",
    "ts_sqrt.rolling(window=12).std().plot(color='black', label='Std mean')\n",
    "plt.legend()\n",
    "plt.title('Sqrt transformation into original series')\n",
    "\n",
    "plt.subplot(313)\n",
    "ts_pct = passengers.Passengers.shift(1)/passengers.Passengers\n",
    "ts_pct.plot(label='Proportional Change result')\n",
    "ts_pct.rolling(window=12).mean().plot(color='red', label='Windowed mean')\n",
    "ts_pct.rolling(window=12).std().plot(color='black', label='Std mean')\n",
    "plt.legend()\n",
    "plt.title('Proportional Change transformation into original series')\n",
    "\n",
    "plt.tight_layout()"
   ]
  },
  {
   "cell_type": "markdown",
   "metadata": {},
   "source": [
    "#### Smoothing\n",
    "\n",
    "移动平均就是一个很常见的Smoothing方法，我们也可以用于移除Seasonality。"
   ]
  },
  {
   "cell_type": "code",
   "execution_count": null,
   "metadata": {},
   "outputs": [],
   "source": [
    "plt.subplot(311)\n",
    "ts_log = np.log(passengers.Passengers)\n",
    "ts_log = ts_log - pd.Series(ts_log).rolling(12).mean()\n",
    "ts_log.plot(label='Log scale result')\n",
    "ts_log.rolling(window=12).mean().plot(color='red', label='Windowed mean')\n",
    "ts_log.rolling(window=12).std().plot(color='black', label='Std mean')\n",
    "plt.legend()\n",
    "plt.title('Log scale transformation into original series after smoothing')\n",
    "\n",
    "\n",
    "plt.subplot(312)\n",
    "ts_sqrt = np.sqrt(passengers.Passengers)\n",
    "ts_sqrt = ts_sqrt - pd.Series(ts_sqrt).rolling(12).mean()\n",
    "ts_sqrt.plot(label='Sqrt result')\n",
    "ts_sqrt.rolling(window=12).mean().plot(color='red', label='Windowed mean')\n",
    "ts_sqrt.rolling(window=12).std().plot(color='black', label='Std mean')\n",
    "plt.legend()\n",
    "plt.title('Sqrt transformation into original series after smoothing')\n",
    "\n",
    "plt.subplot(313)\n",
    "ts_pct = passengers.Passengers.shift(1)/passengers.Passengers\n",
    "ts_pct = ts_pct - pd.Series(ts_pct).rolling(12).mean()\n",
    "ts_pct.plot(label='Proportional Change result')\n",
    "ts_pct.rolling(window=12).mean().plot(color='red', label='Windowed mean')\n",
    "ts_pct.rolling(window=12).std().plot(color='black', label='Std mean')\n",
    "plt.legend()\n",
    "plt.title('Proportional Change transformation into original series after smoothing')\n",
    "\n",
    "plt.tight_layout()"
   ]
  },
  {
   "cell_type": "markdown",
   "metadata": {},
   "source": [
    "点击图片有惊喜哦👇👇👇\n",
    "\n",
    "<div align=center>\n",
    "<a href='https://mp.weixin.qq.com/mp/appmsgalbum?__biz=Mzg2OTU4NzI3NQ==&action=getalbum&album_id=1764511202329624577&scene=126#wechat_redirect'> \n",
    "<img src=https://github.com/datoujinggzj/WhaleDataScienceProject/blob/master/pic/followme.gif?raw=true width='400' />\n",
    "</div>"
   ]
  },
  {
   "cell_type": "markdown",
   "metadata": {},
   "source": [
    "<div align=center>\n",
    "<a href='https://www.xiaohongshu.com/user/profile/6180a092000000001f03501c?xhsshare=CopyLink&appuid=6180a092000000001f03501c&apptime=1650313282'> \n",
    "<img src=https://github.com/datoujinggzj/WhaleDataScienceProject/blob/master/pic/followme_xhs.gif?raw=true width = 400/>\n",
    "</div>"
   ]
  }
 ],
 "metadata": {
  "kernelspec": {
   "display_name": "Python 3",
   "language": "python",
   "name": "python3"
  },
  "language_info": {
   "codemirror_mode": {
    "name": "ipython",
    "version": 3
   },
   "file_extension": ".py",
   "mimetype": "text/x-python",
   "name": "python",
   "nbconvert_exporter": "python",
   "pygments_lexer": "ipython3",
   "version": "3.7.6"
  }
 },
 "nbformat": 4,
 "nbformat_minor": 4
}
